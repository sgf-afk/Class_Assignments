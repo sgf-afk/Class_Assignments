{
 "cells": [
  {
   "cell_type": "code",
   "execution_count": null,
   "metadata": {},
   "outputs": [],
   "source": [
    "import numpy as np\n",
    "import pandas as pd\n",
    "import matplotlib.pyplot as plt\n",
    "from sklearn.preprocessing import StandardScaler\n",
    "from sklearn.cluster import DBSCAN\n",
    "from sklearn.decomposition import PCA\n",
    "from sklearn import metrics\n",
    "from sqlalchemy import create_engine\n",
    "import warnings\n",
    "warnings.filterwarnings(\"ignore\")"
   ]
  },
  {
   "cell_type": "code",
   "execution_count": null,
   "metadata": {},
   "outputs": [],
   "source": [
    "postgres_user = 'dsbc_student'\n",
    "postgres_pw = '7*.8G9QH21'\n",
    "postgres_host = '142.93.121.174'\n",
    "postgres_port = '5432'\n",
    "postgres_db = 'heartdisease'\n",
    "\n",
    "engine = create_engine('postgresql://{}:{}@{}:{}/{}'.format(\n",
    "    postgres_user, postgres_pw, postgres_host, postgres_port, postgres_db))\n",
    "heartdisease_df = pd.read_sql_query('select * from heartdisease',con=engine)\n",
    "\n",
    "# no need for an open connection, as we're only doing a single query\n",
    "engine.dispose()"
   ]
  },
  {
   "cell_type": "code",
   "execution_count": null,
   "metadata": {},
   "outputs": [],
   "source": [
    "# Define the features and the outcome\n",
    "X = heartdisease_df.iloc[:, :13]\n",
    "y = heartdisease_df.iloc[:, 13]\n",
    "\n",
    "# Replace missing values (marked by ?) with a 0\n",
    "X = X.replace(to_replace='?', value=0)\n",
    "\n",
    "# Binarize y so that 1 means heart disease diagnosis and 0 means no diagnosis.\n",
    "y = np.where(y > 0, 0, 1)\n",
    "\n",
    "# Standardize the data.\n",
    "scaler = StandardScaler()\n",
    "X_std = scaler.fit_transform(X)"
   ]
  },
  {
   "cell_type": "code",
   "execution_count": null,
   "metadata": {},
   "outputs": [],
   "source": [
    "dbscan_cluster = DBSCAN(eps=1, min_samples=1, metric=\"euclidean\")\n",
    "\n",
    "# Fit model\n",
    "clusters = dbscan_cluster.fit_predict(X_std)\n",
    "\n",
    "pca = PCA(n_components=2).fit_transform(X_std)\n",
    "\n",
    "plt.figure(figsize=(10,5))\n",
    "colours = 'rbgrg'\n",
    "for i in range(pca.shape[0]):\n",
    "    plt.text(pca[i, 0], pca[i, 1], str(clusters[i]),\n",
    "             color=colours[y[i]],\n",
    "             fontdict={'weight': 'bold', 'size': 50}\n",
    "        )\n",
    "\n",
    "plt.xticks([])\n",
    "plt.yticks([])\n",
    "plt.axis('off')\n",
    "plt.show()"
   ]
  },
  {
   "cell_type": "code",
   "execution_count": null,
   "metadata": {},
   "outputs": [],
   "source": [
    "dbscan_cluster = DBSCAN(eps=1, min_samples=1, metric=\"euclidean\")\n",
    "\n",
    "# Fit model\n",
    "clusters = dbscan_cluster.fit_predict(X_std)\n",
    "\n",
    "print(\"Number of clusters when min_samples=1 is: {}\".format(len(np.unique(clusters))))\n",
    "\n",
    "min_samples_list = range(2,51)\n",
    "\n",
    "for i in range(2,51):\n",
    "    dbscan_cluster = DBSCAN(eps=1, min_samples=i, metric=\"euclidean\")\n",
    "    # Fit model\n",
    "    clusters = dbscan_cluster.fit_predict(X_std)\n",
    "    print(\"Number of clusters when min_samples={} is: {}\".format(i, len(np.unique(clusters))))"
   ]
  },
  {
   "cell_type": "code",
   "execution_count": null,
   "metadata": {},
   "outputs": [],
   "source": [
    "dbscan_cluster = DBSCAN(eps=1, min_samples=1, metric=\"euclidean\")\n",
    "\n",
    "# Fit model\n",
    "clusters = dbscan_cluster.fit_predict(X_std)\n",
    "\n",
    "print(\"Number of clusters when eps=1 is: {}\".format(len(np.unique(clusters))))\n",
    "\n",
    "min_samples_list = range(2,51)\n",
    "\n",
    "for i in [0.01,0.1,1,2,3,4,5,6,7,8,9,10]:\n",
    "    dbscan_cluster = DBSCAN(eps=i, min_samples=1, metric=\"euclidean\")\n",
    "    # Fit model\n",
    "    clusters = dbscan_cluster.fit_predict(X_std)\n",
    "    print(\"Number of clusters when eps={} is: {}\".format(i, len(np.unique(clusters))))"
   ]
  }
 ],
 "metadata": {
  "kernelspec": {
   "display_name": "Python 3",
   "language": "python",
   "name": "python3"
  },
  "language_info": {
   "codemirror_mode": {
    "name": "ipython",
    "version": 3
   },
   "file_extension": ".py",
   "mimetype": "text/x-python",
   "name": "python",
   "nbconvert_exporter": "python",
   "pygments_lexer": "ipython3",
   "version": "3.7.4"
  }
 },
 "nbformat": 4,
 "nbformat_minor": 2
}
