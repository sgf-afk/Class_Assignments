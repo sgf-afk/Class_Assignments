{
 "cells": [
  {
   "cell_type": "markdown",
   "metadata": {},
   "source": [
    "In this assignment, you'll continue working with the U.S. Education Dataset from Kaggle. The data gives detailed state level information on several facets of education on an annual basis. To learn more about the data and the column descriptions, you can view the Kaggle link above.\n",
    "\n",
    "Access this data using the Thinkful database using these credentials:\n",
    "\n",
    "* postgres_user = 'dsbc_student'\n",
    "* postgres_pw = '7*.8G9QH21'\n",
    "* postgres_host = '142.93.121.174'\n",
    "* postgres_port = '5432'\n",
    "* postgres_db = 'useducation'\n",
    "\n",
    "Don't forget to apply the most suitable missing value filling techniques from the previous checkpoint to the data. Provide the answers to the following only after you've addressed missing values!\n",
    "\n",
    "To complete this assignment, submit a link to a Jupyter notebook containing your solutions to the following tasks:\n",
    "\n",
    "1. Consider the two variables: TOTAL_REVENUE and TOTAL_EXPENDITURE. Do these variables have outlier values?\n",
    "2. If you detect outliers in the TOTAL_REVENUE and TOTAL_EXPENDITURE variables, apply the techniques you learned in this checkpoint to eliminate them and validate that there's no outlier values after you handled them.\n",
    "3. Create another variable by subtracting the original TOTAL_EXPENDITURE from TOTAL_REVENUE (before you eliminated the outliers). You can think of it as a kind of budget deficit in education. Do you find any outlier values in this new variable? 4. If so, eliminate them using the technique you think most suitable.\n",
    "5. Now create another variable by subtracting the TOTAL_EXPENDITURE from TOTAL_REVENUE. This time, use the outlier eliminated versions of TOTAL_EXPENDITURE from TOTAL_REVENUE. In this newly created variable, can you find any outliers? If so, eliminate them.\n",
    "6. Compare some basic descriptive statistics of the budget variables you end up with in the 3rd and the 4th questions. Do you see any differences?\n",
    "7. If our variable of interest is the budget deficit variable, which method do you think is the appropriate in dealing with the outliers in this variable: the method in the 3rd question or the one in the 4th question?"
   ]
  },
  {
   "cell_type": "code",
   "execution_count": 2,
   "metadata": {},
   "outputs": [],
   "source": [
    "import matplotlib.pyplot as plt\n",
    "import numpy as np\n",
    "import pandas as pd\n",
    "from sqlalchemy import create_engine\n",
    "import warnings\n",
    "\n",
    "warnings.filterwarnings('ignore')\n",
    "\n",
    "postgres_user = 'dsbc_student'\n",
    "postgres_pw = '7*.8G9QH21'\n",
    "postgres_host = '142.93.121.174'\n",
    "postgres_port = '5432'\n",
    "postgres_db = 'useducation'\n",
    "\n",
    "engine = create_engine('postgresql://{}:{}@{}:{}/{}'.format(\n",
    "    postgres_user, postgres_pw, postgres_host, postgres_port, postgres_db))\n",
    "\n",
    "education_df = pd.read_sql_query('select * from useducation',con=engine)\n",
    "\n",
    "# no need for an open connection, \n",
    "# as we're only doing a single query\n",
    "engine.dispose()"
   ]
  },
  {
   "cell_type": "code",
   "execution_count": 3,
   "metadata": {},
   "outputs": [],
   "source": [
    "fill_list = [\"STATE_REVENUE\", \"LOCAL_REVENUE\", \"TOTAL_EXPENDITURE\",\n",
    "             \"INSTRUCTION_EXPENDITURE\", \"SUPPORT_SERVICES_EXPENDITURE\",\n",
    "             \"OTHER_EXPENDITURE\", \"CAPITAL_OUTLAY_EXPENDITURE\", \"GRADES_PK_G\",\n",
    "             \"GRADES_KG_G\", \"GRADES_4_G\", \"GRADES_8_G\", \"GRADES_12_G\", \"GRADES_1_8_G\",\n",
    "             \"GRADES_9_12_G\", \"GRADES_ALL_G\"]\n",
    "\n",
    "states = education_df[\"STATE\"].unique()\n",
    "\n",
    "for state in states:\n",
    "    education_df.loc[education_df[\"STATE\"] == state, fill_list] = education_df.loc[education_df[\"STATE\"] == state, fill_list].interpolate()\n",
    "\n",
    "# we drop the null values after interpolation\n",
    "education_df.dropna(inplace=True)"
   ]
  },
  {
   "cell_type": "markdown",
   "metadata": {},
   "source": [
    "## 1. Consider the two variables: TOTAL_REVENUE and TOTAL_EXPENDITURE. Do these variables have outlier values?"
   ]
  },
  {
   "cell_type": "code",
   "execution_count": 4,
   "metadata": {
    "collapsed": true
   },
   "outputs": [
    {
     "name": "stdout",
     "output_type": "stream",
     "text": [
      "<class 'pandas.core.frame.DataFrame'>\n",
      "Int64Index: 415 entries, 209 to 1249\n",
      "Data columns (total 25 columns):\n",
      "PRIMARY_KEY                     415 non-null object\n",
      "STATE                           415 non-null object\n",
      "YEAR                            415 non-null int64\n",
      "ENROLL                          415 non-null float64\n",
      "TOTAL_REVENUE                   415 non-null float64\n",
      "FEDERAL_REVENUE                 415 non-null float64\n",
      "STATE_REVENUE                   415 non-null float64\n",
      "LOCAL_REVENUE                   415 non-null float64\n",
      "TOTAL_EXPENDITURE               415 non-null float64\n",
      "INSTRUCTION_EXPENDITURE         415 non-null float64\n",
      "SUPPORT_SERVICES_EXPENDITURE    415 non-null float64\n",
      "OTHER_EXPENDITURE               415 non-null float64\n",
      "CAPITAL_OUTLAY_EXPENDITURE      415 non-null float64\n",
      "GRADES_PK_G                     415 non-null float64\n",
      "GRADES_KG_G                     415 non-null float64\n",
      "GRADES_4_G                      415 non-null float64\n",
      "GRADES_8_G                      415 non-null float64\n",
      "GRADES_12_G                     415 non-null float64\n",
      "GRADES_1_8_G                    415 non-null float64\n",
      "GRADES_9_12_G                   415 non-null float64\n",
      "GRADES_ALL_G                    415 non-null float64\n",
      "AVG_MATH_4_SCORE                415 non-null float64\n",
      "AVG_MATH_8_SCORE                415 non-null float64\n",
      "AVG_READING_4_SCORE             415 non-null float64\n",
      "AVG_READING_8_SCORE             415 non-null float64\n",
      "dtypes: float64(22), int64(1), object(2)\n",
      "memory usage: 84.3+ KB\n"
     ]
    }
   ],
   "source": [
    "education_df.info()"
   ]
  },
  {
   "cell_type": "code",
   "execution_count": 5,
   "metadata": {
    "collapsed": true
   },
   "outputs": [
    {
     "data": {
      "text/html": [
       "<div>\n",
       "<style scoped>\n",
       "    .dataframe tbody tr th:only-of-type {\n",
       "        vertical-align: middle;\n",
       "    }\n",
       "\n",
       "    .dataframe tbody tr th {\n",
       "        vertical-align: top;\n",
       "    }\n",
       "\n",
       "    .dataframe thead th {\n",
       "        text-align: right;\n",
       "    }\n",
       "</style>\n",
       "<table border=\"1\" class=\"dataframe\">\n",
       "  <thead>\n",
       "    <tr style=\"text-align: right;\">\n",
       "      <th></th>\n",
       "      <th>PRIMARY_KEY</th>\n",
       "      <th>STATE</th>\n",
       "      <th>YEAR</th>\n",
       "      <th>ENROLL</th>\n",
       "      <th>TOTAL_REVENUE</th>\n",
       "      <th>FEDERAL_REVENUE</th>\n",
       "      <th>STATE_REVENUE</th>\n",
       "      <th>LOCAL_REVENUE</th>\n",
       "      <th>TOTAL_EXPENDITURE</th>\n",
       "      <th>INSTRUCTION_EXPENDITURE</th>\n",
       "      <th>...</th>\n",
       "      <th>GRADES_4_G</th>\n",
       "      <th>GRADES_8_G</th>\n",
       "      <th>GRADES_12_G</th>\n",
       "      <th>GRADES_1_8_G</th>\n",
       "      <th>GRADES_9_12_G</th>\n",
       "      <th>GRADES_ALL_G</th>\n",
       "      <th>AVG_MATH_4_SCORE</th>\n",
       "      <th>AVG_MATH_8_SCORE</th>\n",
       "      <th>AVG_READING_4_SCORE</th>\n",
       "      <th>AVG_READING_8_SCORE</th>\n",
       "    </tr>\n",
       "  </thead>\n",
       "  <tbody>\n",
       "    <tr>\n",
       "      <td>209</td>\n",
       "      <td>1996_ALABAMA</td>\n",
       "      <td>ALABAMA</td>\n",
       "      <td>1996</td>\n",
       "      <td>735912.0</td>\n",
       "      <td>3365113.0</td>\n",
       "      <td>334858.0</td>\n",
       "      <td>2138717.0</td>\n",
       "      <td>891538.0</td>\n",
       "      <td>3572283.0</td>\n",
       "      <td>1987018.0</td>\n",
       "      <td>...</td>\n",
       "      <td>57098.0</td>\n",
       "      <td>58305.0</td>\n",
       "      <td>42510.0</td>\n",
       "      <td>469370.0</td>\n",
       "      <td>207980.0</td>\n",
       "      <td>686983.0</td>\n",
       "      <td>211.646974</td>\n",
       "      <td>256.594863</td>\n",
       "      <td>210.920767</td>\n",
       "      <td>260.276441</td>\n",
       "    </tr>\n",
       "    <tr>\n",
       "      <td>211</td>\n",
       "      <td>1996_ARIZONA</td>\n",
       "      <td>ARIZONA</td>\n",
       "      <td>1996</td>\n",
       "      <td>764681.0</td>\n",
       "      <td>4143304.0</td>\n",
       "      <td>378917.0</td>\n",
       "      <td>1798363.0</td>\n",
       "      <td>1966024.0</td>\n",
       "      <td>4391555.0</td>\n",
       "      <td>1860007.0</td>\n",
       "      <td>...</td>\n",
       "      <td>62793.0</td>\n",
       "      <td>60514.0</td>\n",
       "      <td>42041.0</td>\n",
       "      <td>511925.0</td>\n",
       "      <td>210289.0</td>\n",
       "      <td>726709.0</td>\n",
       "      <td>217.575940</td>\n",
       "      <td>267.874834</td>\n",
       "      <td>206.529788</td>\n",
       "      <td>263.283638</td>\n",
       "    </tr>\n",
       "    <tr>\n",
       "      <td>212</td>\n",
       "      <td>1996_ARKANSAS</td>\n",
       "      <td>ARKANSAS</td>\n",
       "      <td>1996</td>\n",
       "      <td>452907.0</td>\n",
       "      <td>2183384.0</td>\n",
       "      <td>192152.0</td>\n",
       "      <td>1296247.0</td>\n",
       "      <td>694985.0</td>\n",
       "      <td>2297381.0</td>\n",
       "      <td>1264275.0</td>\n",
       "      <td>...</td>\n",
       "      <td>33855.0</td>\n",
       "      <td>37064.0</td>\n",
       "      <td>27613.0</td>\n",
       "      <td>283883.0</td>\n",
       "      <td>131997.0</td>\n",
       "      <td>417860.0</td>\n",
       "      <td>215.846436</td>\n",
       "      <td>261.652745</td>\n",
       "      <td>208.837716</td>\n",
       "      <td>271.834590</td>\n",
       "    </tr>\n",
       "    <tr>\n",
       "      <td>213</td>\n",
       "      <td>1996_CALIFORNIA</td>\n",
       "      <td>CALIFORNIA</td>\n",
       "      <td>1996</td>\n",
       "      <td>5460484.0</td>\n",
       "      <td>31282981.0</td>\n",
       "      <td>2603882.0</td>\n",
       "      <td>17061474.0</td>\n",
       "      <td>11617625.0</td>\n",
       "      <td>31561692.0</td>\n",
       "      <td>16880730.0</td>\n",
       "      <td>...</td>\n",
       "      <td>435217.0</td>\n",
       "      <td>406456.0</td>\n",
       "      <td>298669.0</td>\n",
       "      <td>3516572.0</td>\n",
       "      <td>1525618.0</td>\n",
       "      <td>5115423.0</td>\n",
       "      <td>209.129083</td>\n",
       "      <td>262.772478</td>\n",
       "      <td>201.912591</td>\n",
       "      <td>269.197451</td>\n",
       "    </tr>\n",
       "    <tr>\n",
       "      <td>214</td>\n",
       "      <td>1996_COLORADO</td>\n",
       "      <td>COLORADO</td>\n",
       "      <td>1996</td>\n",
       "      <td>655679.0</td>\n",
       "      <td>3891203.0</td>\n",
       "      <td>194998.0</td>\n",
       "      <td>1664676.0</td>\n",
       "      <td>2031529.0</td>\n",
       "      <td>4075165.0</td>\n",
       "      <td>2052264.0</td>\n",
       "      <td>...</td>\n",
       "      <td>52524.0</td>\n",
       "      <td>52269.0</td>\n",
       "      <td>37179.0</td>\n",
       "      <td>423510.0</td>\n",
       "      <td>185700.0</td>\n",
       "      <td>621730.0</td>\n",
       "      <td>225.805858</td>\n",
       "      <td>275.608214</td>\n",
       "      <td>221.653243</td>\n",
       "      <td>268.168154</td>\n",
       "    </tr>\n",
       "  </tbody>\n",
       "</table>\n",
       "<p>5 rows × 25 columns</p>\n",
       "</div>"
      ],
      "text/plain": [
       "         PRIMARY_KEY       STATE  YEAR     ENROLL  TOTAL_REVENUE  \\\n",
       "209     1996_ALABAMA     ALABAMA  1996   735912.0      3365113.0   \n",
       "211     1996_ARIZONA     ARIZONA  1996   764681.0      4143304.0   \n",
       "212    1996_ARKANSAS    ARKANSAS  1996   452907.0      2183384.0   \n",
       "213  1996_CALIFORNIA  CALIFORNIA  1996  5460484.0     31282981.0   \n",
       "214    1996_COLORADO    COLORADO  1996   655679.0      3891203.0   \n",
       "\n",
       "     FEDERAL_REVENUE  STATE_REVENUE  LOCAL_REVENUE  TOTAL_EXPENDITURE  \\\n",
       "209         334858.0      2138717.0       891538.0          3572283.0   \n",
       "211         378917.0      1798363.0      1966024.0          4391555.0   \n",
       "212         192152.0      1296247.0       694985.0          2297381.0   \n",
       "213        2603882.0     17061474.0     11617625.0         31561692.0   \n",
       "214         194998.0      1664676.0      2031529.0          4075165.0   \n",
       "\n",
       "     INSTRUCTION_EXPENDITURE  ...  GRADES_4_G  GRADES_8_G  GRADES_12_G  \\\n",
       "209                1987018.0  ...     57098.0     58305.0      42510.0   \n",
       "211                1860007.0  ...     62793.0     60514.0      42041.0   \n",
       "212                1264275.0  ...     33855.0     37064.0      27613.0   \n",
       "213               16880730.0  ...    435217.0    406456.0     298669.0   \n",
       "214                2052264.0  ...     52524.0     52269.0      37179.0   \n",
       "\n",
       "     GRADES_1_8_G  GRADES_9_12_G  GRADES_ALL_G  AVG_MATH_4_SCORE  \\\n",
       "209      469370.0       207980.0      686983.0        211.646974   \n",
       "211      511925.0       210289.0      726709.0        217.575940   \n",
       "212      283883.0       131997.0      417860.0        215.846436   \n",
       "213     3516572.0      1525618.0     5115423.0        209.129083   \n",
       "214      423510.0       185700.0      621730.0        225.805858   \n",
       "\n",
       "     AVG_MATH_8_SCORE  AVG_READING_4_SCORE  AVG_READING_8_SCORE  \n",
       "209        256.594863           210.920767           260.276441  \n",
       "211        267.874834           206.529788           263.283638  \n",
       "212        261.652745           208.837716           271.834590  \n",
       "213        262.772478           201.912591           269.197451  \n",
       "214        275.608214           221.653243           268.168154  \n",
       "\n",
       "[5 rows x 25 columns]"
      ]
     },
     "execution_count": 5,
     "metadata": {},
     "output_type": "execute_result"
    }
   ],
   "source": [
    "education_df.head()"
   ]
  },
  {
   "cell_type": "markdown",
   "metadata": {},
   "source": [
    "__Time series data, I can interpolate the missing values__"
   ]
  },
  {
   "cell_type": "markdown",
   "metadata": {},
   "source": [
    "Z-Score Test"
   ]
  },
  {
   "cell_type": "code",
   "execution_count": 8,
   "metadata": {
    "collapsed": true
   },
   "outputs": [
    {
     "name": "stdout",
     "output_type": "stream",
     "text": [
      "The score threshold is: 1\n",
      "The indices of the outliers:\n",
      "(array([  3,  26,  52,  61,  89, 100, 112, 140, 151, 163, 168, 172, 189,\n",
      "       191, 197, 202, 214, 220, 224, 241, 243, 249, 254, 266, 271, 275,\n",
      "       292, 294, 300, 305, 317, 322, 326, 343, 345, 351, 356, 368, 373,\n",
      "       377, 394, 396, 399, 402, 407], dtype=int64),)\n",
      "Number of outliers is: 45\n",
      "The score threshold is: 2\n",
      "The indices of the outliers:\n",
      "(array([ 26,  61,  89, 112, 140, 151, 163, 191, 202, 214, 243, 254, 266,\n",
      "       294, 305, 317, 345, 356, 368, 396, 407], dtype=int64),)\n",
      "Number of outliers is: 21\n",
      "The score threshold is: 3\n",
      "The indices of the outliers:\n",
      "(array([ 61, 112, 163, 191, 214, 243, 266, 294, 305, 317, 345, 356, 368,\n",
      "       396, 407], dtype=int64),)\n",
      "Number of outliers is: 15\n",
      "The score threshold is: 4\n",
      "The indices of the outliers:\n",
      "(array([163, 214, 266, 317, 368, 396], dtype=int64),)\n",
      "Number of outliers is: 6\n",
      "The score threshold is: 5\n",
      "The indices of the outliers:\n",
      "(array([368], dtype=int64),)\n",
      "Number of outliers is: 1\n",
      "The score threshold is: 6\n",
      "The indices of the outliers:\n",
      "(array([], dtype=int64),)\n",
      "Number of outliers is: 0\n",
      "The score threshold is: 7\n",
      "The indices of the outliers:\n",
      "(array([], dtype=int64),)\n",
      "Number of outliers is: 0\n",
      "The score threshold is: 8\n",
      "The indices of the outliers:\n",
      "(array([], dtype=int64),)\n",
      "Number of outliers is: 0\n",
      "The score threshold is: 9\n",
      "The indices of the outliers:\n",
      "(array([], dtype=int64),)\n",
      "Number of outliers is: 0\n"
     ]
    }
   ],
   "source": [
    "from scipy.stats import zscore\n",
    "\n",
    "z_scores = zscore(education_df['TOTAL_REVENUE'])\n",
    "for threshold in range(1,10):\n",
    "    print(\"The score threshold is: {}\".format(threshold))\n",
    "    print(\"The indices of the outliers:\")\n",
    "    print(np.where(z_scores > threshold))\n",
    "    print(\"Number of outliers is: {}\".format(len((np.where(z_scores > threshold)[0]))))"
   ]
  },
  {
   "cell_type": "code",
   "execution_count": 10,
   "metadata": {
    "collapsed": true
   },
   "outputs": [
    {
     "name": "stdout",
     "output_type": "stream",
     "text": [
      "The score threshold is: 1\n",
      "The indices of the outliers:\n",
      "(array([  3,  26,  52,  61,  89, 100, 112, 140, 151, 163, 168, 189, 191,\n",
      "       197, 202, 214, 220, 224, 241, 243, 249, 254, 266, 271, 275, 292,\n",
      "       294, 300, 305, 317, 322, 326, 343, 345, 351, 356, 368, 373, 377,\n",
      "       394, 396, 402, 407], dtype=int64),)\n",
      "Number of outliers is: 43\n",
      "The score threshold is: 2\n",
      "The indices of the outliers:\n",
      "(array([ 26,  61,  89, 100, 112, 140, 151, 163, 191, 202, 214, 243, 254,\n",
      "       266, 294, 305, 317, 345, 356, 368, 396, 407], dtype=int64),)\n",
      "Number of outliers is: 22\n",
      "The score threshold is: 3\n",
      "The indices of the outliers:\n",
      "(array([ 61, 112, 163, 191, 214, 243, 254, 266, 294, 305, 317, 345, 356,\n",
      "       368, 396, 407], dtype=int64),)\n",
      "Number of outliers is: 16\n",
      "The score threshold is: 4\n",
      "The indices of the outliers:\n",
      "(array([112, 163, 214, 266, 317, 368, 396], dtype=int64),)\n",
      "Number of outliers is: 7\n",
      "The score threshold is: 5\n",
      "The indices of the outliers:\n",
      "(array([368], dtype=int64),)\n",
      "Number of outliers is: 1\n",
      "The score threshold is: 6\n",
      "The indices of the outliers:\n",
      "(array([], dtype=int64),)\n",
      "Number of outliers is: 0\n",
      "The score threshold is: 7\n",
      "The indices of the outliers:\n",
      "(array([], dtype=int64),)\n",
      "Number of outliers is: 0\n",
      "The score threshold is: 8\n",
      "The indices of the outliers:\n",
      "(array([], dtype=int64),)\n",
      "Number of outliers is: 0\n",
      "The score threshold is: 9\n",
      "The indices of the outliers:\n",
      "(array([], dtype=int64),)\n",
      "Number of outliers is: 0\n"
     ]
    }
   ],
   "source": [
    "z_scores = zscore(education_df['TOTAL_EXPENDITURE'])\n",
    "for threshold in range(1,10):\n",
    "    print(\"The score threshold is: {}\".format(threshold))\n",
    "    print(\"The indices of the outliers:\")\n",
    "    print(np.where(z_scores > threshold))\n",
    "    print(\"Number of outliers is: {}\".format(len((np.where(z_scores > threshold)[0]))))"
   ]
  },
  {
   "cell_type": "markdown",
   "metadata": {},
   "source": [
    "According to Zscores both have outliers"
   ]
  },
  {
   "cell_type": "markdown",
   "metadata": {},
   "source": [
    "## 2. If you detect outliers in the TOTAL_REVENUE and TOTAL_EXPENDITURE variables, apply the techniques you learned in this checkpoint to eliminate them and validate that there's no outlier values after you handled them."
   ]
  },
  {
   "cell_type": "code",
   "execution_count": 11,
   "metadata": {},
   "outputs": [],
   "source": [
    "from scipy.stats.mstats import winsorize\n",
    "\n",
    "winsorized_revenue = winsorize(education_df[\"TOTAL_REVENUE\"], (0, 0.05))\n",
    "\n",
    "winsorized_expenditure = winsorize(education_df[\"TOTAL_EXPENDITURE\"], (0, 0.05))"
   ]
  },
  {
   "cell_type": "code",
   "execution_count": 12,
   "metadata": {
    "collapsed": true
   },
   "outputs": [
    {
     "name": "stdout",
     "output_type": "stream",
     "text": [
      "The score threshold is: 1\n",
      "The indices of the outliers:\n",
      "(array([  3,  19,  26,  52,  61,  66,  70,  87,  89,  95, 100, 112, 117,\n",
      "       121, 138, 140, 143, 146, 151, 163, 168, 172, 181, 189, 191, 194,\n",
      "       197, 202, 214, 220, 224, 233, 241, 243, 246, 249, 254, 266, 271,\n",
      "       275, 284, 292, 294, 297, 300, 305, 317, 322, 326, 343, 345, 348,\n",
      "       351, 356, 368, 373, 377, 394, 396, 399, 402, 407], dtype=int64),)\n",
      "Number of outliers is: 62\n",
      "The score threshold is: 2\n",
      "The indices of the outliers:\n",
      "(array([  3,  26,  52,  61,  89, 100, 112, 140, 151, 163, 168, 191, 202,\n",
      "       214, 243, 254, 266, 275, 294, 305, 317, 326, 345, 356, 368, 377,\n",
      "       394, 396, 402, 407], dtype=int64),)\n",
      "Number of outliers is: 30\n",
      "The score threshold is: 3\n",
      "The indices of the outliers:\n",
      "(array([], dtype=int64),)\n",
      "Number of outliers is: 0\n",
      "The score threshold is: 4\n",
      "The indices of the outliers:\n",
      "(array([], dtype=int64),)\n",
      "Number of outliers is: 0\n",
      "The score threshold is: 5\n",
      "The indices of the outliers:\n",
      "(array([], dtype=int64),)\n",
      "Number of outliers is: 0\n",
      "The score threshold is: 6\n",
      "The indices of the outliers:\n",
      "(array([], dtype=int64),)\n",
      "Number of outliers is: 0\n",
      "The score threshold is: 7\n",
      "The indices of the outliers:\n",
      "(array([], dtype=int64),)\n",
      "Number of outliers is: 0\n",
      "The score threshold is: 8\n",
      "The indices of the outliers:\n",
      "(array([], dtype=int64),)\n",
      "Number of outliers is: 0\n",
      "The score threshold is: 9\n",
      "The indices of the outliers:\n",
      "(array([], dtype=int64),)\n",
      "Number of outliers is: 0\n"
     ]
    }
   ],
   "source": [
    "z_scores = zscore(winsorized_revenue)\n",
    "for threshold in range(1,10):\n",
    "    print(\"The score threshold is: {}\".format(threshold))\n",
    "    print(\"The indices of the outliers:\")\n",
    "    print(np.where(z_scores > threshold))\n",
    "    print(\"Number of outliers is: {}\".format(len((np.where(z_scores > threshold)[0]))))"
   ]
  },
  {
   "cell_type": "code",
   "execution_count": 13,
   "metadata": {
    "collapsed": true
   },
   "outputs": [
    {
     "name": "stdout",
     "output_type": "stream",
     "text": [
      "The score threshold is: 1\n",
      "The indices of the outliers:\n",
      "(array([  3,  19,  26,  52,  61,  66,  70,  87,  89,  95, 100, 112, 117,\n",
      "       121, 130, 138, 140, 143, 146, 151, 163, 168, 172, 181, 189, 191,\n",
      "       194, 197, 202, 214, 220, 224, 233, 241, 243, 246, 249, 254, 266,\n",
      "       271, 275, 292, 294, 297, 300, 305, 317, 322, 326, 343, 345, 348,\n",
      "       351, 356, 368, 373, 377, 394, 396, 399, 402, 407], dtype=int64),)\n",
      "Number of outliers is: 62\n",
      "The score threshold is: 2\n",
      "The indices of the outliers:\n",
      "(array([  3,  26,  52,  61,  89, 100, 112, 140, 151, 163, 168, 191, 202,\n",
      "       214, 243, 254, 266, 294, 305, 317, 345, 356, 368, 377, 396, 407],\n",
      "      dtype=int64),)\n",
      "Number of outliers is: 26\n",
      "The score threshold is: 3\n",
      "The indices of the outliers:\n",
      "(array([ 26,  61,  89, 112, 140, 151, 163, 191, 202, 214, 243, 254, 266,\n",
      "       294, 305, 317, 345, 356, 368, 396, 407], dtype=int64),)\n",
      "Number of outliers is: 21\n",
      "The score threshold is: 4\n",
      "The indices of the outliers:\n",
      "(array([], dtype=int64),)\n",
      "Number of outliers is: 0\n",
      "The score threshold is: 5\n",
      "The indices of the outliers:\n",
      "(array([], dtype=int64),)\n",
      "Number of outliers is: 0\n",
      "The score threshold is: 6\n",
      "The indices of the outliers:\n",
      "(array([], dtype=int64),)\n",
      "Number of outliers is: 0\n",
      "The score threshold is: 7\n",
      "The indices of the outliers:\n",
      "(array([], dtype=int64),)\n",
      "Number of outliers is: 0\n",
      "The score threshold is: 8\n",
      "The indices of the outliers:\n",
      "(array([], dtype=int64),)\n",
      "Number of outliers is: 0\n",
      "The score threshold is: 9\n",
      "The indices of the outliers:\n",
      "(array([], dtype=int64),)\n",
      "Number of outliers is: 0\n"
     ]
    }
   ],
   "source": [
    "z_scores = zscore(winsorized_expenditure)\n",
    "for threshold in range(1,10):\n",
    "    print(\"The score threshold is: {}\".format(threshold))\n",
    "    print(\"The indices of the outliers:\")\n",
    "    print(np.where(z_scores > threshold))\n",
    "    print(\"Number of outliers is: {}\".format(len((np.where(z_scores > threshold)[0]))))"
   ]
  },
  {
   "cell_type": "markdown",
   "metadata": {},
   "source": [
    "After the outlier threshold of 3 (75%) we lose our outliers, Winsorization worked."
   ]
  },
  {
   "cell_type": "markdown",
   "metadata": {},
   "source": [
    "## 3. Create another variable by subtracting the original TOTAL_EXPENDITURE from TOTAL_REVENUE (before you eliminated the outliers). You can think of it as a kind of budget deficit in education. Do you find any outlier values in this new variable? "
   ]
  },
  {
   "cell_type": "code",
   "execution_count": 14,
   "metadata": {},
   "outputs": [],
   "source": [
    "education_df['Deficit'] =  education_df['TOTAL_REVENUE'] - education_df['TOTAL_EXPENDITURE']"
   ]
  },
  {
   "cell_type": "code",
   "execution_count": 20,
   "metadata": {
    "scrolled": false
   },
   "outputs": [
    {
     "data": {
      "text/plain": [
       "{'whiskers': [<matplotlib.lines.Line2D at 0x18a46b88908>,\n",
       "  <matplotlib.lines.Line2D at 0x18a46b88e88>],\n",
       " 'caps': [<matplotlib.lines.Line2D at 0x18a46b88f88>,\n",
       "  <matplotlib.lines.Line2D at 0x18a46b8d988>],\n",
       " 'boxes': [<matplotlib.lines.Line2D at 0x18a46b88108>],\n",
       " 'medians': [<matplotlib.lines.Line2D at 0x18a46b60608>],\n",
       " 'fliers': [<matplotlib.lines.Line2D at 0x18a46b8db08>],\n",
       " 'means': []}"
      ]
     },
     "execution_count": 20,
     "metadata": {},
     "output_type": "execute_result"
    },
    {
     "data": {
      "image/png": "[encoded data removed]",
      "text/plain": [
       "<Figure size 432x288 with 1 Axes>"
      ]
     },
     "metadata": {
      "needs_background": "light"
     },
     "output_type": "display_data"
    }
   ],
   "source": [
    "plt.boxplot(education_df['Deficit'], whis = 5)"
   ]
  },
  {
   "cell_type": "markdown",
   "metadata": {},
   "source": [
    "appears so!"
   ]
  },
  {
   "cell_type": "markdown",
   "metadata": {},
   "source": [
    "## 4. If so, eliminate them using the technique you think most suitable."
   ]
  },
  {
   "cell_type": "code",
   "execution_count": 18,
   "metadata": {},
   "outputs": [],
   "source": [
    "winsorized_budget = winsorize(education_df['Deficit'], (0.05, 0.05))"
   ]
  },
  {
   "cell_type": "code",
   "execution_count": 21,
   "metadata": {},
   "outputs": [
    {
     "data": {
      "text/plain": [
       "{'whiskers': [<matplotlib.lines.Line2D at 0x18a46bf67c8>,\n",
       "  <matplotlib.lines.Line2D at 0x18a46bf6d48>],\n",
       " 'caps': [<matplotlib.lines.Line2D at 0x18a46bf6e48>,\n",
       "  <matplotlib.lines.Line2D at 0x18a46bf6ec8>],\n",
       " 'boxes': [<matplotlib.lines.Line2D at 0x18a46beefc8>],\n",
       " 'medians': [<matplotlib.lines.Line2D at 0x18a46bfadc8>],\n",
       " 'fliers': [<matplotlib.lines.Line2D at 0x18a46bfaec8>],\n",
       " 'means': []}"
      ]
     },
     "execution_count": 21,
     "metadata": {},
     "output_type": "execute_result"
    },
    {
     "data": {
      "image/png": "[encoded data removed]",
      "text/plain": [
       "<Figure size 432x288 with 1 Axes>"
      ]
     },
     "metadata": {
      "needs_background": "light"
     },
     "output_type": "display_data"
    }
   ],
   "source": [
    "plt.boxplot(winsorized_budget, whis = 5)"
   ]
  },
  {
   "cell_type": "markdown",
   "metadata": {},
   "source": [
    "Looks like outliers were taken care of"
   ]
  },
  {
   "cell_type": "markdown",
   "metadata": {},
   "source": [
    "## 5. Now create another variable by subtracting the TOTAL_EXPENDITURE from TOTAL_REVENUE. This time, use the outlier eliminated versions of TOTAL_EXPENDITURE from TOTAL_REVENUE. In this newly created variable, can you find any outliers? If so, eliminate them."
   ]
  },
  {
   "cell_type": "code",
   "execution_count": 22,
   "metadata": {},
   "outputs": [],
   "source": [
    "education_df['winsordeficit'] =  winsorized_revenue - winsorized_expenditure"
   ]
  },
  {
   "cell_type": "code",
   "execution_count": 24,
   "metadata": {},
   "outputs": [
    {
     "data": {
      "text/plain": [
       "{'whiskers': [<matplotlib.lines.Line2D at 0x18a46c77cc8>,\n",
       "  <matplotlib.lines.Line2D at 0x18a46c77dc8>],\n",
       " 'caps': [<matplotlib.lines.Line2D at 0x18a46c77e48>,\n",
       "  <matplotlib.lines.Line2D at 0x18a46c7ad48>],\n",
       " 'boxes': [<matplotlib.lines.Line2D at 0x18a46c77588>],\n",
       " 'medians': [<matplotlib.lines.Line2D at 0x18a46c7ae48>],\n",
       " 'fliers': [<matplotlib.lines.Line2D at 0x18a46c7aec8>],\n",
       " 'means': []}"
      ]
     },
     "execution_count": 24,
     "metadata": {},
     "output_type": "execute_result"
    },
    {
     "data": {
      "image/png": "[encoded data removed]",
      "text/plain": [
       "<Figure size 432x288 with 1 Axes>"
      ]
     },
     "metadata": {
      "needs_background": "light"
     },
     "output_type": "display_data"
    }
   ],
   "source": [
    "plt.boxplot(education_df['winsordeficit'], whis=5)"
   ]
  },
  {
   "cell_type": "code",
   "execution_count": 28,
   "metadata": {},
   "outputs": [],
   "source": [
    "winsorizedbudget2 = winsorize(education_df['winsordeficit'], (0.05, 0.05))"
   ]
  },
  {
   "cell_type": "code",
   "execution_count": 29,
   "metadata": {
    "scrolled": false
   },
   "outputs": [
    {
     "data": {
      "text/plain": [
       "{'whiskers': [<matplotlib.lines.Line2D at 0x18a46d7bb88>,\n",
       "  <matplotlib.lines.Line2D at 0x18a46d7bfc8>],\n",
       " 'caps': [<matplotlib.lines.Line2D at 0x18a46d7bd08>,\n",
       "  <matplotlib.lines.Line2D at 0x18a46d80c08>],\n",
       " 'boxes': [<matplotlib.lines.Line2D at 0x18a46d7b3c8>],\n",
       " 'medians': [<matplotlib.lines.Line2D at 0x18a46d80d08>],\n",
       " 'fliers': [<matplotlib.lines.Line2D at 0x18a46d80d88>],\n",
       " 'means': []}"
      ]
     },
     "execution_count": 29,
     "metadata": {},
     "output_type": "execute_result"
    },
    {
     "data": {
      "image/png": "[encoded data removed]",
      "text/plain": [
       "<Figure size 432x288 with 1 Axes>"
      ]
     },
     "metadata": {
      "needs_background": "light"
     },
     "output_type": "display_data"
    }
   ],
   "source": [
    "plt.boxplot(winsorizedbudget2, whis=5)"
   ]
  },
  {
   "cell_type": "markdown",
   "metadata": {},
   "source": [
    "## 6. Compare some basic descriptive statistics of the budget variables you end up with in the 3rd and the 4th questions. Do you see any differences?"
   ]
  },
  {
   "cell_type": "code",
   "execution_count": 30,
   "metadata": {},
   "outputs": [
    {
     "data": {
      "text/html": [
       "<div>\n",
       "<style scoped>\n",
       "    .dataframe tbody tr th:only-of-type {\n",
       "        vertical-align: middle;\n",
       "    }\n",
       "\n",
       "    .dataframe tbody tr th {\n",
       "        vertical-align: top;\n",
       "    }\n",
       "\n",
       "    .dataframe thead th {\n",
       "        text-align: right;\n",
       "    }\n",
       "</style>\n",
       "<table border=\"1\" class=\"dataframe\">\n",
       "  <thead>\n",
       "    <tr style=\"text-align: right;\">\n",
       "      <th></th>\n",
       "      <th>YEAR</th>\n",
       "      <th>ENROLL</th>\n",
       "      <th>TOTAL_REVENUE</th>\n",
       "      <th>FEDERAL_REVENUE</th>\n",
       "      <th>STATE_REVENUE</th>\n",
       "      <th>LOCAL_REVENUE</th>\n",
       "      <th>TOTAL_EXPENDITURE</th>\n",
       "      <th>INSTRUCTION_EXPENDITURE</th>\n",
       "      <th>SUPPORT_SERVICES_EXPENDITURE</th>\n",
       "      <th>OTHER_EXPENDITURE</th>\n",
       "      <th>...</th>\n",
       "      <th>GRADES_12_G</th>\n",
       "      <th>GRADES_1_8_G</th>\n",
       "      <th>GRADES_9_12_G</th>\n",
       "      <th>GRADES_ALL_G</th>\n",
       "      <th>AVG_MATH_4_SCORE</th>\n",
       "      <th>AVG_MATH_8_SCORE</th>\n",
       "      <th>AVG_READING_4_SCORE</th>\n",
       "      <th>AVG_READING_8_SCORE</th>\n",
       "      <th>Deficit</th>\n",
       "      <th>winsordeficit</th>\n",
       "    </tr>\n",
       "  </thead>\n",
       "  <tbody>\n",
       "    <tr>\n",
       "      <td>count</td>\n",
       "      <td>415.000000</td>\n",
       "      <td>4.150000e+02</td>\n",
       "      <td>4.150000e+02</td>\n",
       "      <td>4.150000e+02</td>\n",
       "      <td>4.150000e+02</td>\n",
       "      <td>4.150000e+02</td>\n",
       "      <td>4.150000e+02</td>\n",
       "      <td>4.150000e+02</td>\n",
       "      <td>4.150000e+02</td>\n",
       "      <td>4.150000e+02</td>\n",
       "      <td>...</td>\n",
       "      <td>415.000000</td>\n",
       "      <td>4.150000e+02</td>\n",
       "      <td>4.150000e+02</td>\n",
       "      <td>4.150000e+02</td>\n",
       "      <td>415.000000</td>\n",
       "      <td>415.000000</td>\n",
       "      <td>415.000000</td>\n",
       "      <td>415.000000</td>\n",
       "      <td>4.150000e+02</td>\n",
       "      <td>4.150000e+02</td>\n",
       "    </tr>\n",
       "    <tr>\n",
       "      <td>mean</td>\n",
       "      <td>2007.542169</td>\n",
       "      <td>9.435114e+05</td>\n",
       "      <td>1.050078e+07</td>\n",
       "      <td>9.452970e+05</td>\n",
       "      <td>4.861435e+06</td>\n",
       "      <td>4.694044e+06</td>\n",
       "      <td>1.060764e+07</td>\n",
       "      <td>5.483496e+06</td>\n",
       "      <td>3.099217e+06</td>\n",
       "      <td>4.805515e+05</td>\n",
       "      <td>...</td>\n",
       "      <td>64247.127711</td>\n",
       "      <td>5.827269e+05</td>\n",
       "      <td>2.858815e+05</td>\n",
       "      <td>8.910099e+05</td>\n",
       "      <td>236.627931</td>\n",
       "      <td>279.547505</td>\n",
       "      <td>219.313624</td>\n",
       "      <td>263.563558</td>\n",
       "      <td>-1.068615e+05</td>\n",
       "      <td>-1.655368e+05</td>\n",
       "    </tr>\n",
       "    <tr>\n",
       "      <td>std</td>\n",
       "      <td>5.263816</td>\n",
       "      <td>1.120863e+06</td>\n",
       "      <td>1.308047e+07</td>\n",
       "      <td>1.325607e+06</td>\n",
       "      <td>6.150820e+06</td>\n",
       "      <td>6.082528e+06</td>\n",
       "      <td>1.332400e+07</td>\n",
       "      <td>6.988600e+06</td>\n",
       "      <td>3.718716e+06</td>\n",
       "      <td>5.858813e+05</td>\n",
       "      <td>...</td>\n",
       "      <td>76734.979844</td>\n",
       "      <td>6.919342e+05</td>\n",
       "      <td>3.396827e+05</td>\n",
       "      <td>1.057819e+06</td>\n",
       "      <td>8.992015</td>\n",
       "      <td>9.599459</td>\n",
       "      <td>7.583719</td>\n",
       "      <td>6.935179</td>\n",
       "      <td>6.013278e+05</td>\n",
       "      <td>6.766118e+05</td>\n",
       "    </tr>\n",
       "    <tr>\n",
       "      <td>min</td>\n",
       "      <td>1996.000000</td>\n",
       "      <td>4.417900e+04</td>\n",
       "      <td>6.788740e+05</td>\n",
       "      <td>5.787000e+04</td>\n",
       "      <td>0.000000e+00</td>\n",
       "      <td>2.853100e+04</td>\n",
       "      <td>7.032450e+05</td>\n",
       "      <td>3.182600e+05</td>\n",
       "      <td>2.041170e+05</td>\n",
       "      <td>2.310700e+04</td>\n",
       "      <td>...</td>\n",
       "      <td>2188.000000</td>\n",
       "      <td>2.676200e+04</td>\n",
       "      <td>9.970000e+03</td>\n",
       "      <td>3.682300e+04</td>\n",
       "      <td>187.134670</td>\n",
       "      <td>232.831510</td>\n",
       "      <td>181.626990</td>\n",
       "      <td>236.379102</td>\n",
       "      <td>-5.487742e+06</td>\n",
       "      <td>-2.518429e+06</td>\n",
       "    </tr>\n",
       "    <tr>\n",
       "      <td>25%</td>\n",
       "      <td>2003.000000</td>\n",
       "      <td>2.795105e+05</td>\n",
       "      <td>2.672062e+06</td>\n",
       "      <td>2.594065e+05</td>\n",
       "      <td>1.445588e+06</td>\n",
       "      <td>9.448265e+05</td>\n",
       "      <td>2.624235e+06</td>\n",
       "      <td>1.404482e+06</td>\n",
       "      <td>8.131670e+05</td>\n",
       "      <td>1.284545e+05</td>\n",
       "      <td>...</td>\n",
       "      <td>18536.500000</td>\n",
       "      <td>1.666610e+05</td>\n",
       "      <td>8.207900e+04</td>\n",
       "      <td>2.598385e+05</td>\n",
       "      <td>231.945184</td>\n",
       "      <td>274.367612</td>\n",
       "      <td>214.914848</td>\n",
       "      <td>259.312874</td>\n",
       "      <td>-2.043990e+05</td>\n",
       "      <td>-2.140815e+05</td>\n",
       "    </tr>\n",
       "    <tr>\n",
       "      <td>50%</td>\n",
       "      <td>2007.000000</td>\n",
       "      <td>6.651090e+05</td>\n",
       "      <td>6.077498e+06</td>\n",
       "      <td>5.353560e+05</td>\n",
       "      <td>2.966981e+06</td>\n",
       "      <td>2.385143e+06</td>\n",
       "      <td>6.184819e+06</td>\n",
       "      <td>3.168745e+06</td>\n",
       "      <td>1.872074e+06</td>\n",
       "      <td>3.239130e+05</td>\n",
       "      <td>...</td>\n",
       "      <td>41270.000000</td>\n",
       "      <td>4.058170e+05</td>\n",
       "      <td>1.866620e+05</td>\n",
       "      <td>6.249790e+05</td>\n",
       "      <td>238.292839</td>\n",
       "      <td>281.407120</td>\n",
       "      <td>220.829771</td>\n",
       "      <td>265.050858</td>\n",
       "      <td>-1.455000e+04</td>\n",
       "      <td>-1.575500e+04</td>\n",
       "    </tr>\n",
       "    <tr>\n",
       "      <td>75%</td>\n",
       "      <td>2011.000000</td>\n",
       "      <td>1.017251e+06</td>\n",
       "      <td>1.196548e+07</td>\n",
       "      <td>1.019472e+06</td>\n",
       "      <td>5.972396e+06</td>\n",
       "      <td>5.334070e+06</td>\n",
       "      <td>1.150164e+07</td>\n",
       "      <td>6.006730e+06</td>\n",
       "      <td>3.566994e+06</td>\n",
       "      <td>5.472210e+05</td>\n",
       "      <td>...</td>\n",
       "      <td>74850.500000</td>\n",
       "      <td>6.391890e+05</td>\n",
       "      <td>3.217070e+05</td>\n",
       "      <td>9.700250e+05</td>\n",
       "      <td>242.640565</td>\n",
       "      <td>286.086248</td>\n",
       "      <td>224.467909</td>\n",
       "      <td>268.199020</td>\n",
       "      <td>8.363100e+04</td>\n",
       "      <td>8.250600e+04</td>\n",
       "    </tr>\n",
       "    <tr>\n",
       "      <td>max</td>\n",
       "      <td>2015.000000</td>\n",
       "      <td>6.307022e+06</td>\n",
       "      <td>7.824804e+07</td>\n",
       "      <td>9.990221e+06</td>\n",
       "      <td>4.236047e+07</td>\n",
       "      <td>3.494151e+07</td>\n",
       "      <td>7.836596e+07</td>\n",
       "      <td>4.195426e+07</td>\n",
       "      <td>2.350185e+07</td>\n",
       "      <td>3.759373e+06</td>\n",
       "      <td>...</td>\n",
       "      <td>498403.000000</td>\n",
       "      <td>3.929869e+06</td>\n",
       "      <td>2.011865e+06</td>\n",
       "      <td>5.926631e+06</td>\n",
       "      <td>253.420961</td>\n",
       "      <td>300.568235</td>\n",
       "      <td>236.773867</td>\n",
       "      <td>277.191363</td>\n",
       "      <td>1.816932e+06</td>\n",
       "      <td>1.816932e+06</td>\n",
       "    </tr>\n",
       "  </tbody>\n",
       "</table>\n",
       "<p>8 rows × 25 columns</p>\n",
       "</div>"
      ],
      "text/plain": [
       "              YEAR        ENROLL  TOTAL_REVENUE  FEDERAL_REVENUE  \\\n",
       "count   415.000000  4.150000e+02   4.150000e+02     4.150000e+02   \n",
       "mean   2007.542169  9.435114e+05   1.050078e+07     9.452970e+05   \n",
       "std       5.263816  1.120863e+06   1.308047e+07     1.325607e+06   \n",
       "min    1996.000000  4.417900e+04   6.788740e+05     5.787000e+04   \n",
       "25%    2003.000000  2.795105e+05   2.672062e+06     2.594065e+05   \n",
       "50%    2007.000000  6.651090e+05   6.077498e+06     5.353560e+05   \n",
       "75%    2011.000000  1.017251e+06   1.196548e+07     1.019472e+06   \n",
       "max    2015.000000  6.307022e+06   7.824804e+07     9.990221e+06   \n",
       "\n",
       "       STATE_REVENUE  LOCAL_REVENUE  TOTAL_EXPENDITURE  \\\n",
       "count   4.150000e+02   4.150000e+02       4.150000e+02   \n",
       "mean    4.861435e+06   4.694044e+06       1.060764e+07   \n",
       "std     6.150820e+06   6.082528e+06       1.332400e+07   \n",
       "min     0.000000e+00   2.853100e+04       7.032450e+05   \n",
       "25%     1.445588e+06   9.448265e+05       2.624235e+06   \n",
       "50%     2.966981e+06   2.385143e+06       6.184819e+06   \n",
       "75%     5.972396e+06   5.334070e+06       1.150164e+07   \n",
       "max     4.236047e+07   3.494151e+07       7.836596e+07   \n",
       "\n",
       "       INSTRUCTION_EXPENDITURE  SUPPORT_SERVICES_EXPENDITURE  \\\n",
       "count             4.150000e+02                  4.150000e+02   \n",
       "mean              5.483496e+06                  3.099217e+06   \n",
       "std               6.988600e+06                  3.718716e+06   \n",
       "min               3.182600e+05                  2.041170e+05   \n",
       "25%               1.404482e+06                  8.131670e+05   \n",
       "50%               3.168745e+06                  1.872074e+06   \n",
       "75%               6.006730e+06                  3.566994e+06   \n",
       "max               4.195426e+07                  2.350185e+07   \n",
       "\n",
       "       OTHER_EXPENDITURE  ...    GRADES_12_G  GRADES_1_8_G  GRADES_9_12_G  \\\n",
       "count       4.150000e+02  ...     415.000000  4.150000e+02   4.150000e+02   \n",
       "mean        4.805515e+05  ...   64247.127711  5.827269e+05   2.858815e+05   \n",
       "std         5.858813e+05  ...   76734.979844  6.919342e+05   3.396827e+05   \n",
       "min         2.310700e+04  ...    2188.000000  2.676200e+04   9.970000e+03   \n",
       "25%         1.284545e+05  ...   18536.500000  1.666610e+05   8.207900e+04   \n",
       "50%         3.239130e+05  ...   41270.000000  4.058170e+05   1.866620e+05   \n",
       "75%         5.472210e+05  ...   74850.500000  6.391890e+05   3.217070e+05   \n",
       "max         3.759373e+06  ...  498403.000000  3.929869e+06   2.011865e+06   \n",
       "\n",
       "       GRADES_ALL_G  AVG_MATH_4_SCORE  AVG_MATH_8_SCORE  AVG_READING_4_SCORE  \\\n",
       "count  4.150000e+02        415.000000        415.000000           415.000000   \n",
       "mean   8.910099e+05        236.627931        279.547505           219.313624   \n",
       "std    1.057819e+06          8.992015          9.599459             7.583719   \n",
       "min    3.682300e+04        187.134670        232.831510           181.626990   \n",
       "25%    2.598385e+05        231.945184        274.367612           214.914848   \n",
       "50%    6.249790e+05        238.292839        281.407120           220.829771   \n",
       "75%    9.700250e+05        242.640565        286.086248           224.467909   \n",
       "max    5.926631e+06        253.420961        300.568235           236.773867   \n",
       "\n",
       "       AVG_READING_8_SCORE       Deficit  winsordeficit  \n",
       "count           415.000000  4.150000e+02   4.150000e+02  \n",
       "mean            263.563558 -1.068615e+05  -1.655368e+05  \n",
       "std               6.935179  6.013278e+05   6.766118e+05  \n",
       "min             236.379102 -5.487742e+06  -2.518429e+06  \n",
       "25%             259.312874 -2.043990e+05  -2.140815e+05  \n",
       "50%             265.050858 -1.455000e+04  -1.575500e+04  \n",
       "75%             268.199020  8.363100e+04   8.250600e+04  \n",
       "max             277.191363  1.816932e+06   1.816932e+06  \n",
       "\n",
       "[8 rows x 25 columns]"
      ]
     },
     "execution_count": 30,
     "metadata": {},
     "output_type": "execute_result"
    }
   ],
   "source": [
    "education_df.describe()"
   ]
  },
  {
   "cell_type": "markdown",
   "metadata": {},
   "source": [
    "There are some pretty substantial differences between the two"
   ]
  },
  {
   "cell_type": "markdown",
   "metadata": {},
   "source": [
    "## 7. If our variable of interest is the budget deficit variable, which method do you think is the appropriate in dealing with the outliers in this variable: the method in the 3rd question or the one in the 4th question?"
   ]
  },
  {
   "cell_type": "markdown",
   "metadata": {},
   "source": [
    "for a more accurate representation, using the data from the original variables is best. The method in the 3rd question."
   ]
  }
 ],
 "metadata": {
  "kernelspec": {
   "display_name": "Python 3",
   "language": "python",
   "name": "python3"
  },
  "language_info": {
   "codemirror_mode": {
    "name": "ipython",
    "version": 3
   },
   "file_extension": ".py",
   "mimetype": "text/x-python",
   "name": "python",
   "nbconvert_exporter": "python",
   "pygments_lexer": "ipython3",
   "version": "3.7.4"
  }
 },
 "nbformat": 4,
 "nbformat_minor": 2
}
