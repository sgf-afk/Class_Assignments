{
 "cells": [
  {
   "cell_type": "markdown",
   "metadata": {},
   "source": [
    "1. How many movies are released for each rating?\n",
    "2. What is the average rental duration for each rating?\n",
    "3. What is the mean movie length? Calculate this by defining a function.\n",
    "4. What is the median movie length? Calculate this by defining a function.\n",
    "5. Calculate the standard deviation of the movie lengths. Calculate this by defining a function."
   ]
  },
  {
   "cell_type": "markdown",
   "metadata": {},
   "source": [
    "# 1. How many movies are released for each rating?\n"
   ]
  },
  {
   "cell_type": "code",
   "execution_count": 2,
   "metadata": {},
   "outputs": [],
   "source": [
    "from sqlalchemy import create_engine\n",
    "# Database credentials\n",
    "postgres_user = 'dsbc_student'\n",
    "postgres_pw = '7*.8G9QH21'\n",
    "postgres_host = '142.93.121.174'\n",
    "postgres_port = '5432'\n",
    "postgres_db = 'dvdrentals'\n",
    "\n",
    "# use the credentials to start a connection\n",
    "engine = create_engine('postgresql://{}:{}@{}:{}/{}'.format(\n",
    "    postgres_user, postgres_pw, postgres_host, postgres_port, postgres_db))"
   ]
  },
  {
   "cell_type": "code",
   "execution_count": 6,
   "metadata": {},
   "outputs": [
    {
     "name": "stdout",
     "output_type": "stream",
     "text": [
      "(195, 'R')\n",
      "(210, 'NC-17')\n",
      "(194, 'PG')\n",
      "(223, 'PG-13')\n",
      "(178, 'G')\n"
     ]
    }
   ],
   "source": [
    "sql = '''\n",
    " SELECT COUNT(*) AS count, rating\n",
    " FROM film\n",
    " GROUP BY rating;\n",
    "'''\n",
    "\n",
    "results = engine.execute(sql)\n",
    "engine.dispose()\n",
    "rows = results.fetchall()\n",
    "\n",
    "for row in rows:\n",
    "    print(row)"
   ]
  },
  {
   "cell_type": "markdown",
   "metadata": {},
   "source": [
    "## 2. What is the average rental duration for each rating?"
   ]
  },
  {
   "cell_type": "code",
   "execution_count": 7,
   "metadata": {
    "scrolled": true
   },
   "outputs": [
    {
     "name": "stdout",
     "output_type": "stream",
     "text": [
      "(Decimal('4.77'), 'R')\n",
      "(Decimal('5.14'), 'NC-17')\n",
      "(Decimal('5.08'), 'PG')\n",
      "(Decimal('5.05'), 'PG-13')\n",
      "(Decimal('4.84'), 'G')\n"
     ]
    }
   ],
   "source": [
    "sql = '''\n",
    "    SELECT ROUND(AVG(rental_duration), 2), rating\n",
    "    FROM film\n",
    "    GROUP BY rating;\n",
    "\n",
    "'''\n",
    "\n",
    "results = engine.execute(sql)\n",
    "engine.dispose()\n",
    "rows = results.fetchall()\n",
    "\n",
    "for row in rows:\n",
    "    print(row)"
   ]
  },
  {
   "cell_type": "markdown",
   "metadata": {},
   "source": [
    "## 3. What is the mean movie length? Calculate this by defining a function."
   ]
  },
  {
   "cell_type": "code",
   "execution_count": 21,
   "metadata": {},
   "outputs": [],
   "source": [
    "sql = '''\n",
    "    SELECT length\n",
    "    FROM film;\n",
    "\n",
    "\n",
    "'''\n",
    "\n",
    "lengths = engine.execute(sql)\n",
    "engine.dispose()\n",
    "rows = lengths.fetchall()\n",
    "\n",
    "length = [x['length'] for x in rows]"
   ]
  },
  {
   "cell_type": "code",
   "execution_count": 22,
   "metadata": {},
   "outputs": [
    {
     "name": "stdout",
     "output_type": "stream",
     "text": [
      "The mean of the movie length is 115.272\n"
     ]
    }
   ],
   "source": [
    "def mean(numbers):\n",
    "  total_sum = 0;  # initialize the sum to zero\n",
    "  for n in numbers:\n",
    "    total_sum += n # add up the numbers in the array\n",
    "  count = len(numbers)   # find the length of the array\n",
    "  avg = total_sum / count  # calculate the mean\n",
    "  return avg  # return the result\n",
    "\n",
    "print('The mean of the movie length is {}'.format(mean(length)))"
   ]
  },
  {
   "cell_type": "markdown",
   "metadata": {},
   "source": [
    "## 4. What is the median movie length? Calculate this by defining a function.\n"
   ]
  },
  {
   "cell_type": "code",
   "execution_count": 23,
   "metadata": {},
   "outputs": [
    {
     "name": "stdout",
     "output_type": "stream",
     "text": [
      "The median movie length is 114.0\n"
     ]
    }
   ],
   "source": [
    "import math\n",
    "\n",
    "def median(numbers):\n",
    "  numbers.sort()  # sort the list of numbers\n",
    "  count = len(numbers) # get the length of the array\n",
    "  isEven = count % 2 == 0 # check if this list is of even length\n",
    "  \n",
    "  if (isEven):\n",
    "    # find the two numbers in the middle of the array\n",
    "    mid = math.floor( count / 2 )\n",
    "    a = numbers[mid - 1]\n",
    "    b = numbers[mid]\n",
    "    # find the average of these two numbers\n",
    "    ans = (a + b) / 2\n",
    "  else:\n",
    "    ans = numbers[math.floor( count / 2 )]\n",
    " \n",
    "  return ans\n",
    "\n",
    "print('The median movie length is {}'.format(median(length)))"
   ]
  },
  {
   "cell_type": "markdown",
   "metadata": {},
   "source": [
    "## 5. Calculate the standard deviation of the movie lengths. Calculate this by defining a function."
   ]
  },
  {
   "cell_type": "code",
   "execution_count": 24,
   "metadata": {},
   "outputs": [
    {
     "name": "stdout",
     "output_type": "stream",
     "text": [
      "The standard deviation of movie lengths is 40.42633181855988\n"
     ]
    }
   ],
   "source": [
    "def standard_deviation(numbers):\n",
    "  X_bar = mean(numbers)\n",
    "  N = len(numbers)\n",
    "  total_sum = 0\n",
    "  for X in numbers:\n",
    "    diff = X - X_bar\n",
    "    squared = math.pow(diff, 2)\n",
    "    total_sum += squared\n",
    "  sigma = math.sqrt(total_sum / (N - 1))  \n",
    "  return sigma\n",
    "\n",
    "print('The standard deviation of movie lengths is {}'.format(standard_deviation(length)))"
   ]
  }
 ],
 "metadata": {
  "kernelspec": {
   "display_name": "Python 3",
   "language": "python",
   "name": "python3"
  },
  "language_info": {
   "codemirror_mode": {
    "name": "ipython",
    "version": 3
   },
   "file_extension": ".py",
   "mimetype": "text/x-python",
   "name": "python",
   "nbconvert_exporter": "python",
   "pygments_lexer": "ipython3",
   "version": "3.7.4"
  }
 },
 "nbformat": 4,
 "nbformat_minor": 2
}
